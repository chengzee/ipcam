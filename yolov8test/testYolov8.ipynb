{
 "cells": [
  {
   "cell_type": "code",
   "execution_count": 1,
   "metadata": {},
   "outputs": [
    {
     "name": "stdout",
     "output_type": "stream",
     "text": [
      "Downloading https://github.com/ultralytics/assets/releases/download/v8.2.0/yolov8n.pt to 'yolov8n.pt'...\n"
     ]
    },
    {
     "name": "stderr",
     "output_type": "stream",
     "text": [
      "100%|██████████| 6.25M/6.25M [00:01<00:00, 6.33MB/s]\n"
     ]
    },
    {
     "name": "stdout",
     "output_type": "stream",
     "text": [
      "\n",
      "image 1/1 f:\\PythonProject\\ParkingMonitor\\IPcam\\yolov8test\\car-plate1.jpg: 480x640 1 0, 44.0ms\n",
      "Speed: 3.0ms preprocess, 44.0ms inference, 78.0ms postprocess per image at shape (1, 3, 480, 640)\n",
      "Results saved to \u001b[1mruns\\detect\\predict\u001b[0m\n"
     ]
    }
   ],
   "source": [
    "from ultralytics import YOLO\n",
    "# import os\n",
    "# os.environ[\"KMP_DUPLICATE_LIB_OK\"]=\"TRUE\" \n",
    "\n",
    "# Load a model\n",
    "model = YOLO(\"yolov8n.pt\")  # load an official model\n",
    "\n",
    "if __name__ == '__main__':\n",
    "    # # print(r\"\\\\tlprr-final.v3i.yolov8\\\\data.yaml\")\n",
    "    # results = model.train(data=r\"F:\\\\PythonProject\\\\ParkingMonitor\\\\tlprr-final.v3i.yolov8\\\\data.yaml\", epochs=3)\n",
    "    # # Validate the model\n",
    "    # results = model.val(data=r\"F:\\\\PythonProject\\\\ParkingMonitor\\\\tlprr-final.v3i.yolov8\\\\data.yaml\")  \n",
    "    # # no arguments needed, dataset and settings remembered\n",
    "    \n",
    "    \n",
    "    \n",
    "    # Load a model\n",
    "    model = YOLO(\"yolov8n.pt\")  # load an official model\n",
    "    model = YOLO(\"best.pt\")  # load a custom model\n",
    "    # Predict with the model\n",
    "    results = model.predict('car-plate1.jpg',show=True, save=True)  # predict on an image\n",
    "    "
   ]
  },
  {
   "cell_type": "code",
   "execution_count": 2,
   "metadata": {},
   "outputs": [
    {
     "name": "stdout",
     "output_type": "stream",
     "text": [
      "getcwd:       f:\\PythonProject\\ParkingMonitor\\IPcam\\yolov8test\n"
     ]
    }
   ],
   "source": [
    "import os\n",
    "print('getcwd:      ', os.getcwd())\n",
    "# print('__file__:    ', __file__)"
   ]
  },
  {
   "cell_type": "code",
   "execution_count": 13,
   "metadata": {},
   "outputs": [
    {
     "data": {
      "text/plain": [
       "[ultralytics.engine.results.Results object with attributes:\n",
       " \n",
       " boxes: ultralytics.engine.results.Boxes object\n",
       " keypoints: None\n",
       " masks: None\n",
       " names: {0: '0'}\n",
       " obb: None\n",
       " orig_img: array([[[109, 137, 144],\n",
       "         [108, 136, 143],\n",
       "         [109, 135, 142],\n",
       "         ...,\n",
       "         [ 80, 108, 119],\n",
       "         [ 80, 108, 119],\n",
       "         [ 80, 108, 119]],\n",
       " \n",
       "        [[107, 135, 142],\n",
       "         [106, 134, 141],\n",
       "         [106, 132, 139],\n",
       "         ...,\n",
       "         [ 76, 104, 115],\n",
       "         [ 76, 104, 115],\n",
       "         [ 76, 104, 115]],\n",
       " \n",
       "        [[104, 132, 139],\n",
       "         [103, 131, 138],\n",
       "         [103, 129, 136],\n",
       "         ...,\n",
       "         [ 73, 101, 112],\n",
       "         [ 73, 101, 112],\n",
       "         [ 73, 101, 112]],\n",
       " \n",
       "        ...,\n",
       " \n",
       "        [[103, 125, 143],\n",
       "         [101, 123, 141],\n",
       "         [ 98, 120, 138],\n",
       "         ...,\n",
       "         [ 46,  70,  88],\n",
       "         [ 47,  71,  89],\n",
       "         [ 47,  71,  89]],\n",
       " \n",
       "        [[105, 127, 145],\n",
       "         [102, 124, 142],\n",
       "         [100, 122, 140],\n",
       "         ...,\n",
       "         [ 43,  67,  85],\n",
       "         [ 44,  68,  86],\n",
       "         [ 46,  70,  88]],\n",
       " \n",
       "        [[106, 128, 146],\n",
       "         [104, 126, 144],\n",
       "         [101, 123, 141],\n",
       "         ...,\n",
       "         [ 47,  71,  91],\n",
       "         [ 46,  70,  90],\n",
       "         [ 45,  69,  89]]], dtype=uint8)\n",
       " orig_shape: (285, 381)\n",
       " path: 'f:\\\\PythonProject\\\\ParkingMonitor\\\\IPcam\\\\yolov8test\\\\car-plate1.jpg'\n",
       " probs: None\n",
       " save_dir: 'runs\\\\detect\\\\predict'\n",
       " speed: {'preprocess': 3.0002593994140625, 'inference': 43.99824142456055, 'postprocess': 78.0022144317627}]"
      ]
     },
     "execution_count": 13,
     "metadata": {},
     "output_type": "execute_result"
    }
   ],
   "source": [
    "results"
   ]
  },
  {
   "cell_type": "code",
   "execution_count": 14,
   "metadata": {},
   "outputs": [
    {
     "data": {
      "text/plain": [
       "ultralytics.engine.results.Results object with attributes:\n",
       "\n",
       "boxes: ultralytics.engine.results.Boxes object\n",
       "keypoints: None\n",
       "masks: None\n",
       "names: {0: '0'}\n",
       "obb: None\n",
       "orig_img: array([[[109, 137, 144],\n",
       "        [108, 136, 143],\n",
       "        [109, 135, 142],\n",
       "        ...,\n",
       "        [ 80, 108, 119],\n",
       "        [ 80, 108, 119],\n",
       "        [ 80, 108, 119]],\n",
       "\n",
       "       [[107, 135, 142],\n",
       "        [106, 134, 141],\n",
       "        [106, 132, 139],\n",
       "        ...,\n",
       "        [ 76, 104, 115],\n",
       "        [ 76, 104, 115],\n",
       "        [ 76, 104, 115]],\n",
       "\n",
       "       [[104, 132, 139],\n",
       "        [103, 131, 138],\n",
       "        [103, 129, 136],\n",
       "        ...,\n",
       "        [ 73, 101, 112],\n",
       "        [ 73, 101, 112],\n",
       "        [ 73, 101, 112]],\n",
       "\n",
       "       ...,\n",
       "\n",
       "       [[103, 125, 143],\n",
       "        [101, 123, 141],\n",
       "        [ 98, 120, 138],\n",
       "        ...,\n",
       "        [ 46,  70,  88],\n",
       "        [ 47,  71,  89],\n",
       "        [ 47,  71,  89]],\n",
       "\n",
       "       [[105, 127, 145],\n",
       "        [102, 124, 142],\n",
       "        [100, 122, 140],\n",
       "        ...,\n",
       "        [ 43,  67,  85],\n",
       "        [ 44,  68,  86],\n",
       "        [ 46,  70,  88]],\n",
       "\n",
       "       [[106, 128, 146],\n",
       "        [104, 126, 144],\n",
       "        [101, 123, 141],\n",
       "        ...,\n",
       "        [ 47,  71,  91],\n",
       "        [ 46,  70,  90],\n",
       "        [ 45,  69,  89]]], dtype=uint8)\n",
       "orig_shape: (285, 381)\n",
       "path: 'f:\\\\PythonProject\\\\ParkingMonitor\\\\IPcam\\\\yolov8test\\\\car-plate1.jpg'\n",
       "probs: None\n",
       "save_dir: 'runs\\\\detect\\\\predict'\n",
       "speed: {'preprocess': 3.0002593994140625, 'inference': 43.99824142456055, 'postprocess': 78.0022144317627}"
      ]
     },
     "execution_count": 14,
     "metadata": {},
     "output_type": "execute_result"
    }
   ],
   "source": [
    "results[0]"
   ]
  },
  {
   "cell_type": "code",
   "execution_count": 24,
   "metadata": {},
   "outputs": [
    {
     "name": "stdout",
     "output_type": "stream",
     "text": [
      "tensor([ 39.1731,  41.1249, 338.1276, 235.5034], device='cuda:0')\n",
      "39.17311477661133\n",
      "41.12488555908203\n",
      "338.1275939941406\n",
      "235.50341796875\n"
     ]
    }
   ],
   "source": [
    "for detection in results[0].boxes:\n",
    "    print(detection.xyxy[0])\n",
    "    a, b, c, d = detection.xyxy[0].tolist()\n",
    "    print(a)\n",
    "    print(b)\n",
    "    print(c)\n",
    "    print(d)"
   ]
  },
  {
   "cell_type": "code",
   "execution_count": 30,
   "metadata": {},
   "outputs": [
    {
     "data": {
      "text/plain": [
       "0.8078741431236267"
      ]
     },
     "execution_count": 30,
     "metadata": {},
     "output_type": "execute_result"
    }
   ],
   "source": [
    "results[0].boxes.conf[0].tolist()"
   ]
  },
  {
   "cell_type": "code",
   "execution_count": 39,
   "metadata": {},
   "outputs": [
    {
     "name": "stdout",
     "output_type": "stream",
     "text": [
      "1739894815\n",
      "time.struct_time(tm_year=2025, tm_mon=2, tm_mday=19, tm_hour=0, tm_min=6, tm_sec=55, tm_wday=2, tm_yday=50, tm_isdst=0)\n",
      "2025/02/19 00:06:55\n"
     ]
    }
   ],
   "source": [
    "import time\n",
    "nowTime = int(time.time()) # 取得現在時間\n",
    "print(nowTime)\n",
    "struct_time = time.localtime(nowTime) # 轉換成時間元組\n",
    "\n",
    "local_time = time.localtime() # 取得時間元組\n",
    "print(local_time)\n",
    "timeString = time.strftime(\"%Y/%m/%d %H:%M:%S\", local_time) # 轉成想要的字串形式\n",
    "print(timeString)"
   ]
  },
  {
   "cell_type": "code",
   "execution_count": 15,
   "metadata": {},
   "outputs": [
    {
     "data": {
      "text/plain": [
       "ultralytics.engine.results.Boxes object with attributes:\n",
       "\n",
       "cls: tensor([0.], device='cuda:0')\n",
       "conf: tensor([0.8079], device='cuda:0')\n",
       "data: tensor([[ 39.1731,  41.1249, 338.1276, 235.5034,   0.8079,   0.0000]], device='cuda:0')\n",
       "id: None\n",
       "is_track: False\n",
       "orig_shape: (285, 381)\n",
       "shape: torch.Size([1, 6])\n",
       "xywh: tensor([[188.6504, 138.3141, 298.9545, 194.3785]], device='cuda:0')\n",
       "xywhn: tensor([[0.4951, 0.4853, 0.7847, 0.6820]], device='cuda:0')\n",
       "xyxy: tensor([[ 39.1731,  41.1249, 338.1276, 235.5034]], device='cuda:0')\n",
       "xyxyn: tensor([[0.1028, 0.1443, 0.8875, 0.8263]], device='cuda:0')"
      ]
     },
     "execution_count": 15,
     "metadata": {},
     "output_type": "execute_result"
    }
   ],
   "source": [
    "results[0].boxes"
   ]
  },
  {
   "cell_type": "code",
   "execution_count": 20,
   "metadata": {},
   "outputs": [
    {
     "data": {
      "text/plain": [
       "tensor([ 39.1731,  41.1249, 338.1276, 235.5034], device='cuda:0')"
      ]
     },
     "execution_count": 20,
     "metadata": {},
     "output_type": "execute_result"
    }
   ],
   "source": [
    "results[0].boxes.xyxy[0]"
   ]
  },
  {
   "cell_type": "code",
   "execution_count": 19,
   "metadata": {},
   "outputs": [
    {
     "data": {
      "text/plain": [
       "[39.17311477661133, 41.12488555908203, 338.1275939941406, 235.50341796875]"
      ]
     },
     "execution_count": 19,
     "metadata": {},
     "output_type": "execute_result"
    }
   ],
   "source": [
    "results[0].boxes.xyxy[0].tolist()"
   ]
  },
  {
   "cell_type": "code",
   "execution_count": 8,
   "metadata": {},
   "outputs": [
    {
     "data": {
      "text/plain": [
       "list"
      ]
     },
     "execution_count": 8,
     "metadata": {},
     "output_type": "execute_result"
    }
   ],
   "source": [
    "type(results)\n"
   ]
  },
  {
   "cell_type": "code",
   "execution_count": null,
   "metadata": {},
   "outputs": [],
   "source": []
  }
 ],
 "metadata": {
  "kernelspec": {
   "display_name": "pytorch-env",
   "language": "python",
   "name": "python3"
  },
  "language_info": {
   "codemirror_mode": {
    "name": "ipython",
    "version": 3
   },
   "file_extension": ".py",
   "mimetype": "text/x-python",
   "name": "python",
   "nbconvert_exporter": "python",
   "pygments_lexer": "ipython3",
   "version": "3.12.9"
  }
 },
 "nbformat": 4,
 "nbformat_minor": 2
}
